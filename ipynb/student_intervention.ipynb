{
 "cells": [
  {
   "cell_type": "markdown",
   "metadata": {},
   "source": [
    "# Project: Building a Student Intervention System"
   ]
  },
  {
   "cell_type": "markdown",
   "metadata": {},
   "source": [
    "## Exploring the Data\n",
    "Run the code cell below to load necessary Python libraries and load the student data. Note that the last column from this dataset, `'passed'`, will be our target label (whether the student graduated or didn't graduate). All other columns are features about each student."
   ]
  },
  {
   "cell_type": "code",
   "execution_count": 1,
   "metadata": {},
   "outputs": [
    {
     "name": "stdout",
     "output_type": "stream",
     "text": [
      "Student data read successfully!\n"
     ]
    }
   ],
   "source": [
    "# Import libraries\n",
    "import numpy as np\n",
    "import pandas as pd\n",
    "from time import time\n",
    "from sklearn.metrics import f1_score\n",
    "\n",
    "# Read student data\n",
    "student_data = pd.read_csv(\"student-data.csv\")\n",
    "print \"Student data read successfully!\""
   ]
  },
  {
   "cell_type": "markdown",
   "metadata": {},
   "source": [
    "### Implementation: Data Exploration\n",
    "Let's begin by investigating the dataset to determine how many students we have information on, and learn about the graduation rate among these students. In the code cell below, you will need to compute the following:\n",
    "- The total number of students, `n_students`.\n",
    "- The total number of features for each student, `n_features`.\n",
    "- The number of those students who passed, `n_passed`.\n",
    "- The number of those students who failed, `n_failed`.\n",
    "- The graduation rate of the class, `grad_rate`, in percent (%).\n"
   ]
  },
  {
   "cell_type": "code",
   "execution_count": 2,
   "metadata": {},
   "outputs": [
    {
     "name": "stdout",
     "output_type": "stream",
     "text": [
      "Total number of students: 395\n",
      "Number of features: 30\n",
      "Number of students who passed: 265\n",
      "Number of students who failed: 130\n",
      "Graduation rate of the class: 67.09%\n"
     ]
    }
   ],
   "source": [
    "# TODO: Calculate number of students\n",
    "n_students = len(student_data.index)\n",
    "\n",
    "# TODO: Calculate number of features\n",
    "n_features = len(student_data.columns) - 1\n",
    "\n",
    "# TODO: Calculate passing students\n",
    "n_passed = len(student_data[student_data.passed==\"yes\"])\n",
    "\n",
    "# TODO: Calculate failing students\n",
    "n_failed = len(student_data[student_data.passed==\"no\"])\n",
    "\n",
    "# TODO: Calculate graduation rate\n",
    "grad_rate = (n_passed*100*1.0)/n_students\n",
    "\n",
    "# Print the results\n",
    "print \"Total number of students: {}\".format(n_students)\n",
    "print \"Number of features: {}\".format(n_features)\n",
    "print \"Number of students who passed: {}\".format(n_passed)\n",
    "print \"Number of students who failed: {}\".format(n_failed)\n",
    "print \"Graduation rate of the class: {:.2f}%\".format(grad_rate)"
   ]
  },
  {
   "cell_type": "markdown",
   "metadata": {},
   "source": [
    "## Preparing the Data\n",
    "In this section, we will prepare the data for modeling, training and testing.\n",
    "\n",
    "### Identify feature and target columns\n",
    "It is often the case that the data you obtain contains non-numeric features. This can be a problem, as most machine learning algorithms expect numeric data to perform computations with.\n",
    "\n",
    "Run the code cell below to separate the student data into feature and target columns to see if any features are non-numeric."
   ]
  },
  {
   "cell_type": "code",
   "execution_count": 3,
   "metadata": {},
   "outputs": [
    {
     "name": "stdout",
     "output_type": "stream",
     "text": [
      "Feature columns:\n",
      "['school', 'sex', 'age', 'address', 'famsize', 'Pstatus', 'Medu', 'Fedu', 'Mjob', 'Fjob', 'reason', 'guardian', 'traveltime', 'studytime', 'failures', 'schoolsup', 'famsup', 'paid', 'activities', 'nursery', 'higher', 'internet', 'romantic', 'famrel', 'freetime', 'goout', 'Dalc', 'Walc', 'health', 'absences']\n",
      "\n",
      "Target column: passed\n",
      "\n",
      "Feature values:\n",
      "  school sex  age address famsize Pstatus  Medu  Fedu     Mjob      Fjob  \\\n",
      "0     GP   F   18       U     GT3       A     4     4  at_home   teacher   \n",
      "1     GP   F   17       U     GT3       T     1     1  at_home     other   \n",
      "2     GP   F   15       U     LE3       T     1     1  at_home     other   \n",
      "3     GP   F   15       U     GT3       T     4     2   health  services   \n",
      "4     GP   F   16       U     GT3       T     3     3    other     other   \n",
      "\n",
      "    ...    higher internet  romantic  famrel  freetime goout Dalc Walc health  \\\n",
      "0   ...       yes       no        no       4         3     4    1    1      3   \n",
      "1   ...       yes      yes        no       5         3     3    1    1      3   \n",
      "2   ...       yes      yes        no       4         3     2    2    3      3   \n",
      "3   ...       yes      yes       yes       3         2     2    1    1      5   \n",
      "4   ...       yes       no        no       4         3     2    1    2      5   \n",
      "\n",
      "  absences  \n",
      "0        6  \n",
      "1        4  \n",
      "2       10  \n",
      "3        2  \n",
      "4        4  \n",
      "\n",
      "[5 rows x 30 columns]\n"
     ]
    }
   ],
   "source": [
    "feature_cols = list(student_data.columns[:-1])\n",
    "\n",
    "# Extract target column 'passed'\n",
    "target_col = student_data.columns[-1] \n",
    "\n",
    "# Show the list of columns\n",
    "print \"Feature columns:\\n{}\".format(feature_cols)\n",
    "print \"\\nTarget column: {}\".format(target_col)\n",
    "\n",
    "# Separate the data into feature data and target data (X_all and y_all, respectively)\n",
    "X_all = student_data[feature_cols]\n",
    "y_all = student_data[target_col]\n",
    "\n",
    "# Show the feature information by printing the first five rows\n",
    "print \"\\nFeature values:\"\n",
    "print X_all.head()"
   ]
  },
  {
   "cell_type": "markdown",
   "metadata": {},
   "source": [
    "### Preprocess Feature Columns\n",
    "\n",
    "As you can see, there are several non-numeric columns that need to be converted! Many of them are simply `yes`/`no`, e.g. `internet`. These can be reasonably converted into `1`/`0` (binary) values.\n",
    "\n",
    "Other columns, like `Mjob` and `Fjob`, have more than two values, and are known as _categorical variables_. The recommended way to handle such a column is to create as many columns as possible values (e.g. `Fjob_teacher`, `Fjob_other`, `Fjob_services`, etc.), and assign a `1` to one of them and `0` to all others.\n",
    "\n",
    "These generated columns are sometimes called _dummy variables_, and we will use the [`pandas.get_dummies()`](http://pandas.pydata.org/pandas-docs/stable/generated/pandas.get_dummies.html?highlight=get_dummies#pandas.get_dummies) function to perform this transformation. Run the code cell below to perform the preprocessing routine discussed in this section."
   ]
  },
  {
   "cell_type": "code",
   "execution_count": 6,
   "metadata": {},
   "outputs": [
    {
     "name": "stdout",
     "output_type": "stream",
     "text": [
      "Processed feature columns (48 total features):\n",
      "['school_GP', 'school_MS', 'sex_F', 'sex_M', 'age', 'address_R', 'address_U', 'famsize_GT3', 'famsize_LE3', 'Pstatus_A', 'Pstatus_T', 'Medu', 'Fedu', 'Mjob_at_home', 'Mjob_health', 'Mjob_other', 'Mjob_services', 'Mjob_teacher', 'Fjob_at_home', 'Fjob_health', 'Fjob_other', 'Fjob_services', 'Fjob_teacher', 'reason_course', 'reason_home', 'reason_other', 'reason_reputation', 'guardian_father', 'guardian_mother', 'guardian_other', 'traveltime', 'studytime', 'failures', 'schoolsup', 'famsup', 'paid', 'activities', 'nursery', 'higher', 'internet', 'romantic', 'famrel', 'freetime', 'goout', 'Dalc', 'Walc', 'health', 'absences']\n"
     ]
    }
   ],
   "source": [
    "def preprocess_features(X):\n",
    "    ''' Preprocesses the student data and converts non-numeric binary variables into\n",
    "        binary (0/1) variables. Converts categorical variables into dummy variables. '''\n",
    "    \n",
    "    # Initialize new output DataFrame\n",
    "    output = pd.DataFrame(index = X.index)\n",
    "\n",
    "    # Investigate each feature column for the data\n",
    "    for col, col_data in X.iteritems():\n",
    "        \n",
    "        # If data type is non-numeric, replace all yes/no values with 1/0\n",
    "        if col_data.dtype == object:\n",
    "            col_data = col_data.replace(['yes', 'no'], [1, 0])\n",
    "\n",
    "        # If data type is categorical, convert to dummy variables\n",
    "        if col_data.dtype == object:\n",
    "            # Example: 'school' => 'school_GP' and 'school_MS'\n",
    "            col_data = pd.get_dummies(col_data, prefix = col)  \n",
    "        \n",
    "        # Collect the revised columns\n",
    "        output = output.join(col_data)\n",
    "    \n",
    "    return output\n",
    "\n",
    "X_all = preprocess_features(X_all)\n",
    "print \"Processed feature columns ({} total features):\\n{}\".format(len(X_all.columns), list(X_all.columns))"
   ]
  },
  {
   "cell_type": "markdown",
   "metadata": {},
   "source": [
    "### Implementation: Training and Testing Data Split\n",
    "So far, we have converted all _categorical_ features into numeric values. For the next step, we split the data (both features and corresponding labels) into training and test sets. In the following code cell below, you will need to implement the following:\n",
    "- Randomly shuffle and split the data (`X_all`, `y_all`) into training and testing subsets.\n",
    "  - Use 300 training points (approximately 75%) and 95 testing points (approximately 25%).\n",
    "  - Set a `random_state` for the function(s) you use, if provided.\n",
    "  - Store the results in `X_train`, `X_test`, `y_train`, and `y_test`."
   ]
  },
  {
   "cell_type": "code",
   "execution_count": 8,
   "metadata": {},
   "outputs": [
    {
     "name": "stdout",
     "output_type": "stream",
     "text": [
      "Training set: 300 samples\n",
      "Test set: 95 samples\n"
     ]
    }
   ],
   "source": [
    "from sklearn.cross_validation import StratifiedShuffleSplit\n",
    "from sklearn.model_selection import train_test_split\n",
    "\n",
    "# First, decide how many training vs test samples you want\n",
    "num_all = student_data.shape[0]  # same as len(student_data)\n",
    "num_train = 300  # about 75% of the data\n",
    "num_test = num_all - num_train\n",
    "\n",
    "# TODO: Then, select features (X) and corresponding labels (y) for the training and test sets\n",
    "# Note: Shuffle the data or randomly select samples to avoid any bias due to ordering in the dataset\n",
    "sss = StratifiedShuffleSplit(y_all,test_size=num_test, random_state=0)\n",
    "for train_index, test_index in sss:\n",
    "    X_train, X_test = X_all.iloc[train_index], X_all.iloc[test_index]\n",
    "    y_train, y_test = y_all[train_index], y_all[test_index]\n",
    "print \"Training set: {} samples\".format(X_train.shape[0])\n",
    "print \"Test set: {} samples\".format(X_test.shape[0])\n",
    "# Note: If you need a validation set, extract it from within training data"
   ]
  },
  {
   "cell_type": "markdown",
   "metadata": {},
   "source": [
    "#### Training and Evaluating Models\n",
    "In this section, you will choose 4 supervised learning models that are appropriate for this problem and available in `scikit-learn`. You will first discuss the reasoning behind choosing these three models by considering what you know about the data and each model's strengths and weaknesses. You will then fit the model to varying sizes of training data (100 data points, 200 data points, and 300 data points) and measure the F<sub>1</sub> score. You will need to produce three tables (one for each model) that shows the training set size, training time, prediction time, F<sub>1</sub> score on the training set, and F<sub>1</sub> score on the testing set.\n",
    "\n",
    "**The following supervised learning models are currently available in** [`scikit-learn`](http://scikit-learn.org/stable/supervised_learning.html) **that you may choose from:**\n",
    "- Gaussian Naive Bayes (GaussianNB)\n",
    "- Decision Trees\n",
    "- Ensemble Methods (Bagging, AdaBoost, Random Forest, Gradient Boosting)\n",
    "- K-Nearest Neighbors (KNeighbors)\n",
    "- Stochastic Gradient Descent (SGDC)\n",
    "- Support Vector Machines (SVM)\n",
    "- Logistic Regression"
   ]
  },
  {
   "cell_type": "markdown",
   "metadata": {},
   "source": [
    "### Setup\n",
    "Run the code cell below to initialize three helper functions which you can use for training and testing the three supervised learning models you've chosen above. The functions are as follows:\n",
    "- `train_classifier` - takes as input a classifier and training data and fits the classifier to the data.\n",
    "- `predict_labels` - takes as input a fit classifier, features, and a target labeling and makes predictions using the F<sub>1</sub> score.\n",
    "- `train_predict` - takes as input a classifier, and the training and testing data, and performs `train_clasifier` and `predict_labels`.\n",
    " - This function will report the F<sub>1</sub> score for both the training and testing data separately."
   ]
  },
  {
   "cell_type": "code",
   "execution_count": 9,
   "metadata": {},
   "outputs": [
    {
     "name": "stdout",
     "output_type": "stream",
     "text": [
      "Training model SVC...\n",
      "Model training completed in 0.0177 seconds\n",
      "SVC(C=1.0, cache_size=200, class_weight=None, coef0=0.0,\n",
      "  decision_function_shape='ovr', degree=3, gamma='auto', kernel='rbf',\n",
      "  max_iter=-1, probability=False, random_state=None, shrinking=True,\n",
      "  tol=0.001, verbose=False)\n"
     ]
    }
   ],
   "source": [
    "import time\n",
    "\n",
    "def train_classifier(clf, X_train, y_train):\n",
    "    ''' Fits a classifier to the training data. '''\n",
    "    \n",
    "    # Start the clock, train the classifier, then stop the clock\n",
    "    print \"Training model {}...\".format(clf.__class__.__name__)\n",
    "    start = time.time()\n",
    "    clf.fit(X_train, y_train)\n",
    "    end = time.time()\n",
    "    \n",
    "    # Print the results\n",
    "    print \"Model training completed in {:.4f} seconds\".format(end - start)\n",
    "    \n",
    "from sklearn import svm\n",
    "clf = svm.SVC()\n",
    "\n",
    "#call the classifier method to train the data using SVM\n",
    "train_classifier(clf,X_train,y_train)\n",
    "print clf"
   ]
  },
  {
   "cell_type": "code",
   "execution_count": 10,
   "metadata": {},
   "outputs": [
    {
     "name": "stdout",
     "output_type": "stream",
     "text": [
      "Predicting labels using SVC...\n",
      "Predictions made in 0.0091 seconds.\n",
      "F1 score for training dataset: 0.867678958785\n"
     ]
    }
   ],
   "source": [
    "from sklearn.metrics import f1_score\n",
    "def predict_labels(clf, features, target):\n",
    "    ''' Makes predictions using a fit classifier based on F1 score. '''\n",
    "    \n",
    "    # Start the clock, make predictions, then stop the clock\n",
    "    print \"Predicting labels using {}...\".format(clf.__class__.__name__)\n",
    "    start = time.time()\n",
    "    y_pred = clf.predict(features)\n",
    "    end = time.time()\n",
    "    \n",
    "    # Print and return results\n",
    "    print \"Predictions made in {:.4f} seconds.\".format(end - start)\n",
    "    return f1_score(target.values, y_pred, pos_label='yes')\n",
    "\n",
    "trained_f1_score = predict_labels(clf,X_train,y_train)\n",
    "print \"F1 score for training dataset: {}\".format(trained_f1_score)"
   ]
  },
  {
   "cell_type": "code",
   "execution_count": 11,
   "metadata": {},
   "outputs": [
    {
     "name": "stdout",
     "output_type": "stream",
     "text": [
      "Predicting labels using SVC...\n",
      "Predictions made in 0.0033 seconds.\n",
      "F1 score for test dataset: 0.808219178082\n"
     ]
    }
   ],
   "source": [
    "#finding f1 score for test data\n",
    "print \"F1 score for test dataset: {}\".format(predict_labels(clf,X_test,y_test))"
   ]
  },
  {
   "cell_type": "code",
   "execution_count": 12,
   "metadata": {},
   "outputs": [
    {
     "name": "stdout",
     "output_type": "stream",
     "text": [
      "Training a SVC using a training set of size 100. . .\n",
      "Training model SVC...\n",
      "Model training completed in 0.0049 seconds\n",
      "Predicting labels using SVC...\n",
      "Predictions made in 0.0028 seconds.\n",
      "F1 score for training set: 0.8383.\n",
      "Predicting labels using SVC...\n",
      "Predictions made in 0.0032 seconds.\n",
      "F1 score for test set: 0.8050.\n",
      "\n",
      "\n",
      "\n",
      "Training a SVC using a training set of size 200. . .\n",
      "Training model SVC...\n",
      "Model training completed in 0.0097 seconds\n",
      "Predicting labels using SVC...\n",
      "Predictions made in 0.0042 seconds.\n",
      "F1 score for training set: 0.8371.\n",
      "Predicting labels using SVC...\n",
      "Predictions made in 0.0023 seconds.\n",
      "F1 score for test set: 0.8344.\n",
      "\n",
      "\n",
      "\n",
      "Training a SVC using a training set of size 300. . .\n",
      "Training model SVC...\n",
      "Model training completed in 0.0135 seconds\n",
      "Predicting labels using SVC...\n",
      "Predictions made in 0.0079 seconds.\n",
      "F1 score for training set: 0.8677.\n",
      "Predicting labels using SVC...\n",
      "Predictions made in 0.0044 seconds.\n",
      "F1 score for test set: 0.8082.\n",
      "\n",
      "\n",
      "\n"
     ]
    }
   ],
   "source": [
    "from sklearn.decomposition import PCA\n",
    "import pylab as pl\n",
    "\n",
    "def train_predict(clf, X_train, y_train, X_test, y_test):\n",
    "    ''' Train and predict using a classifer based on F1 score. '''\n",
    "    \n",
    "    # Indicate the classifier and the training set size\n",
    "    print \"Training a {} using a training set of size {}. . .\".format(clf.__class__.__name__, len(X_train))\n",
    "    \n",
    "    # Train the classifier\n",
    "    train_classifier(clf, X_train, y_train)\n",
    "    \n",
    "    # Print the results of prediction for both training and testing\n",
    "    print \"F1 score for training set: {:.4f}.\".format(predict_labels(clf, X_train, y_train))\n",
    "    print \"F1 score for test set: {:.4f}.\".format(predict_labels(clf, X_test, y_test))\n",
    "    print \"\\n\\n\"\n",
    "    \n",
    "train_predict(clf,X_train[:100],y_train[:100],X_test, y_test)\n",
    "train_predict(clf,X_train[:200],y_train[:200],X_test, y_test)\n",
    "train_predict(clf,X_train[:300],y_train[:300],X_test, y_test)"
   ]
  },
  {
   "cell_type": "markdown",
   "metadata": {},
   "source": [
    "### Implementation: Model Performance Metrics\n",
    "With the predefined functions above, you will now import the three supervised learning models of your choice and run the `train_predict` function for each one. Remember that you will need to train and predict on each classifier for three different training set sizes: 100, 200, and 300. Hence, you should expect to have 9 different outputs below — 3 for each model using the varying training set sizes. In the following code cell, you will need to implement the following:\n",
    "- Import the three supervised learning models you've discussed in the previous section.\n",
    "- Initialize the three models and store them in `clf_A`, `clf_B`, and `clf_C`.\n",
    " - Use a `random_state` for each model you use, if provided.\n",
    " - **Note:** Use the default settings for each model — you will tune one specific model in a later section.\n",
    "- Create the different training set sizes to be used to train each model.\n",
    " - *Do not reshuffle and resplit the data! The new training points should be drawn from `X_train` and `y_train`.*\n",
    "- Fit each model with each training set size and make predictions on the test set (9 in total).  \n",
    "**Note:** Three tables are provided after the following code cell which can be used to store your results."
   ]
  },
  {
   "cell_type": "code",
   "execution_count": 14,
   "metadata": {},
   "outputs": [
    {
     "name": "stdout",
     "output_type": "stream",
     "text": [
      "Training a GaussianNB using a training set of size 100. . .\n",
      "Training model GaussianNB...\n",
      "Model training completed in 0.0041 seconds\n",
      "Predicting labels using GaussianNB...\n",
      "Predictions made in 0.0014 seconds.\n",
      "F1 score for training set: 0.8163.\n",
      "Predicting labels using GaussianNB...\n",
      "Predictions made in 0.0008 seconds.\n",
      "F1 score for test set: 0.8160.\n",
      "\n",
      "\n",
      "\n",
      "Training a GaussianNB using a training set of size 200. . .\n",
      "Training model GaussianNB...\n",
      "Model training completed in 0.0021 seconds\n",
      "Predicting labels using GaussianNB...\n",
      "Predictions made in 0.0028 seconds.\n",
      "F1 score for training set: 0.7839.\n",
      "Predicting labels using GaussianNB...\n",
      "Predictions made in 0.0013 seconds.\n",
      "F1 score for test set: 0.7520.\n",
      "\n",
      "\n",
      "\n",
      "Training a GaussianNB using a training set of size 300. . .\n",
      "Training model GaussianNB...\n",
      "Model training completed in 0.0015 seconds\n",
      "Predicting labels using GaussianNB...\n",
      "Predictions made in 0.0009 seconds.\n",
      "F1 score for training set: 0.7781.\n",
      "Predicting labels using GaussianNB...\n",
      "Predictions made in 0.0008 seconds.\n",
      "F1 score for test set: 0.7541.\n",
      "\n",
      "\n",
      "\n",
      "Training a LogisticRegression using a training set of size 100. . .\n",
      "Training model LogisticRegression...\n",
      "Model training completed in 0.0027 seconds\n",
      "Predicting labels using LogisticRegression...\n",
      "Predictions made in 0.0008 seconds.\n",
      "F1 score for training set: 0.9231.\n",
      "Predicting labels using LogisticRegression...\n",
      "Predictions made in 0.0008 seconds.\n",
      "F1 score for test set: 0.7107.\n",
      "\n",
      "\n",
      "\n",
      "Training a LogisticRegression using a training set of size 200. . .\n",
      "Training model LogisticRegression...\n",
      "Model training completed in 0.0033 seconds\n",
      "Predicting labels using LogisticRegression...\n",
      "Predictions made in 0.0010 seconds.\n",
      "F1 score for training set: 0.8500.\n",
      "Predicting labels using LogisticRegression...\n",
      "Predictions made in 0.0008 seconds.\n",
      "F1 score for test set: 0.7820.\n",
      "\n",
      "\n",
      "\n",
      "Training a LogisticRegression using a training set of size 300. . .\n",
      "Training model LogisticRegression...\n",
      "Model training completed in 0.0048 seconds\n",
      "Predicting labels using LogisticRegression...\n",
      "Predictions made in 0.0008 seconds.\n",
      "F1 score for training set: 0.8233.\n",
      "Predicting labels using LogisticRegression...\n",
      "Predictions made in 0.0008 seconds.\n",
      "F1 score for test set: 0.8029.\n",
      "\n",
      "\n",
      "\n",
      "Training a RandomForestClassifier using a training set of size 100. . .\n",
      "Training model RandomForestClassifier...\n",
      "Model training completed in 0.0429 seconds\n",
      "Predicting labels using RandomForestClassifier...\n",
      "Predictions made in 0.0024 seconds.\n",
      "F1 score for training set: 0.9928.\n",
      "Predicting labels using RandomForestClassifier...\n",
      "Predictions made in 0.0019 seconds.\n",
      "F1 score for test set: 0.8000.\n",
      "\n",
      "\n",
      "\n",
      "Training a RandomForestClassifier using a training set of size 200. . .\n",
      "Training model RandomForestClassifier...\n",
      "Model training completed in 0.0417 seconds\n",
      "Predicting labels using RandomForestClassifier...\n",
      "Predictions made in 0.0021 seconds.\n",
      "F1 score for training set: 0.9885.\n",
      "Predicting labels using RandomForestClassifier...\n",
      "Predictions made in 0.0020 seconds.\n",
      "F1 score for test set: 0.7259.\n",
      "\n",
      "\n",
      "\n",
      "Training a RandomForestClassifier using a training set of size 300. . .\n",
      "Training model RandomForestClassifier...\n",
      "Model training completed in 0.0425 seconds\n",
      "Predicting labels using RandomForestClassifier...\n",
      "Predictions made in 0.0038 seconds.\n",
      "F1 score for training set: 0.9901.\n",
      "Predicting labels using RandomForestClassifier...\n",
      "Predictions made in 0.0028 seconds.\n",
      "F1 score for test set: 0.7778.\n",
      "\n",
      "\n",
      "\n"
     ]
    }
   ],
   "source": [
    "from sklearn.naive_bayes import GaussianNB\n",
    "from sklearn import linear_model\n",
    "from sklearn.ensemble import RandomForestClassifier\n",
    "\n",
    "clfA = GaussianNB()\n",
    "train_predict(clfA,X_train[:100],y_train[:100],X_test, y_test)\n",
    "train_predict(clfA,X_train[:200],y_train[:200],X_test, y_test)\n",
    "train_predict(clfA,X_train[:300],y_train[:300],X_test, y_test)\n",
    "\n",
    "clfB = linear_model.LogisticRegression(C=1e5)\n",
    "train_predict(clfB,X_train[:100],y_train[:100],X_test, y_test)\n",
    "train_predict(clfB,X_train[:200],y_train[:200],X_test, y_test)\n",
    "train_predict(clfB,X_train[:300],y_train[:300],X_test, y_test)\n",
    "\n",
    "clfC = RandomForestClassifier(n_estimators=10)\n",
    "train_predict(clfC,X_train[:100],y_train[:100],X_test, y_test)\n",
    "train_predict(clfC,X_train[:200],y_train[:200],X_test, y_test)\n",
    "train_predict(clfC,X_train[:300],y_train[:300],X_test, y_test)"
   ]
  },
  {
   "cell_type": "markdown",
   "metadata": {},
   "source": [
    "## Choosing the Best Model\n",
    "In this final section, you will choose from the three supervised learning models the *best* model to use on the student data. You will then perform a grid search optimization for the model over the entire training set (`X_train` and `y_train`) by tuning at least one parameter to improve upon the untuned model's F<sub>1</sub> score. "
   ]
  },
  {
   "cell_type": "markdown",
   "metadata": {},
   "source": [
    "### Implementation: Model Tuning\n",
    "Fine tune the chosen model. Use grid search (`GridSearchCV`) with at least one important parameter tuned with at least 3 different values. You will need to use the entire training set for this. In the code cell below, you will need to implement the following:\n",
    "- Import [`sklearn.grid_search.GridSearchCV`](http://scikit-learn.org/0.17/modules/generated/sklearn.grid_search.GridSearchCV.html) and [`sklearn.metrics.make_scorer`](http://scikit-learn.org/stable/modules/generated/sklearn.metrics.make_scorer.html).\n",
    "- Create a dictionary of parameters you wish to tune for the chosen model.\n",
    " - Example: `parameters = {'parameter' : [list of values]}`.\n",
    "- Initialize the classifier you've chosen and store it in `clf`.\n",
    "- Create the F<sub>1</sub> scoring function using `make_scorer` and store it in `f1_scorer`.\n",
    " - Set the `pos_label` parameter to the correct value!\n",
    "- Perform grid search on the classifier `clf` using `f1_scorer` as the scoring method, and store it in `grid_obj`.\n",
    "- Fit the grid search object to the training data (`X_train`, `y_train`), and store it in `grid_obj`."
   ]
  },
  {
   "cell_type": "code",
   "execution_count": 16,
   "metadata": {},
   "outputs": [
    {
     "name": "stdout",
     "output_type": "stream",
     "text": [
      "SVC(C=1, cache_size=200, class_weight=None, coef0=0.0,\n",
      "  decision_function_shape='ovr', degree=3, gamma=0.1, kernel='rbf',\n",
      "  max_iter=-1, probability=False, random_state=None, shrinking=True,\n",
      "  tol=0.01, verbose=False)\n",
      "\n",
      "\n",
      "Training a SVC using a training set of size 300. . .\n",
      "Training model SVC...\n",
      "Model training completed in 0.0095 seconds\n",
      "Predicting labels using SVC...\n",
      "Predictions made in 0.0068 seconds.\n",
      "F1 score for training set: 0.9781.\n",
      "Predicting labels using SVC...\n",
      "Predictions made in 0.0029 seconds.\n",
      "F1 score for test set: 0.8153.\n",
      "\n",
      "\n",
      "\n"
     ]
    }
   ],
   "source": [
    "from sklearn import grid_search\n",
    "from sklearn.metrics import f1_score\n",
    "from sklearn.metrics import make_scorer\n",
    "from sklearn.model_selection import train_test_split\n",
    "\n",
    "clf = svm.SVC()\n",
    "param_grid = [\n",
    "  {'C': [1,10, 50, 100, 200, 250, 300, 350, 400, 500, 600],\n",
    "    'kernel':['rbf','poly','sigmoid'],\n",
    "    'gamma': [0.001,0.01,0.1,1,0.1,0.01,0.001,0.0001,0.00001],\n",
    "     'tol':[0.01,0.001,0.0001,0.00001,0.0000001]\n",
    "  }\n",
    " ]\n",
    "\n",
    "f1_scorer = make_scorer(f1_score, pos_label=\"yes\")\n",
    "regressor = grid_search.GridSearchCV(clf, param_grid, cv=5,scoring=f1_scorer)\n",
    "regressor.fit(X_train, y_train)\n",
    "reg = regressor.best_estimator_\n",
    "print reg\n",
    "print \"\\n\"\n",
    "train_predict(reg, X_train, y_train,X_test,y_test)"
   ]
  }
 ],
 "metadata": {
  "kernelspec": {
   "display_name": "Python 2",
   "language": "python",
   "name": "python2"
  },
  "language_info": {
   "codemirror_mode": {
    "name": "ipython",
    "version": 2
   },
   "file_extension": ".py",
   "mimetype": "text/x-python",
   "name": "python",
   "nbconvert_exporter": "python",
   "pygments_lexer": "ipython2",
   "version": "2.7.15"
  }
 },
 "nbformat": 4,
 "nbformat_minor": 1
}
