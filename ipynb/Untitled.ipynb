{
 "cells": [
  {
   "cell_type": "markdown",
   "metadata": {},
   "source": [
    "# Student Intervention System"
   ]
  },
  {
   "cell_type": "markdown",
   "metadata": {},
   "source": [
    "About project - Given student data, identify students who might need early intervention before they fail to graduate.\n",
    "\n",
    "This is a classification problem. We have been provided with student data on which analysis needs to be done to determine whether student needs intervention or not. Classification problems require examples to be categorized into two or more classes that can in-turn be fed into the learning algorithm as training data."
   ]
  },
  {
   "cell_type": "code",
   "execution_count": 2,
   "metadata": {},
   "outputs": [
    {
     "name": "stdout",
     "output_type": "stream",
     "text": [
      "Student data read successfully!\n"
     ]
    }
   ],
   "source": [
    "import numpy as np\n",
    "import pandas as pd\n",
    "from time import time\n",
    "from sklearn.metrics import f1_score\n",
    "\n",
    "# Read student data\n",
    "student_data = pd.read_csv(\"student-data.csv\")\n",
    "print \"Student data read successfully!\""
   ]
  },
  {
   "cell_type": "code",
   "execution_count": 2,
   "metadata": {},
   "outputs": [
    {
     "name": "stdout",
     "output_type": "stream",
     "text": [
      "Total number of students: 395\n",
      "Number of features: 30\n",
      "Number of students who passed: 265\n",
      "Number of students who failed: 130\n",
      "Graduation rate of the class: 67.09%\n"
     ]
    }
   ],
   "source": [
    "# TODO: Calculate number of students\n",
    "n_students = len(student_data.index)\n",
    "\n",
    "# TODO: Calculate number of features\n",
    "n_features = len(student_data.columns) - 1\n",
    "\n",
    "# TODO: Calculate passing students\n",
    "n_passed = len(student_data[student_data.passed==\"yes\"])\n",
    "\n",
    "# TODO: Calculate failing students\n",
    "n_failed = len(student_data[student_data.passed==\"no\"])\n",
    "\n",
    "# TODO: Calculate graduation rate\n",
    "grad_rate = (n_passed*100*1.0)/n_students\n",
    "\n",
    "# Print the results\n",
    "print \"Total number of students: {}\".format(n_students)\n",
    "print \"Number of features: {}\".format(n_features)\n",
    "print \"Number of students who passed: {}\".format(n_passed)\n",
    "print \"Number of students who failed: {}\".format(n_failed)\n",
    "print \"Graduation rate of the class: {:.2f}%\".format(grad_rate)"
   ]
  },
  {
   "cell_type": "code",
   "execution_count": 3,
   "metadata": {},
   "outputs": [
    {
     "name": "stdout",
     "output_type": "stream",
     "text": [
      "Feature columns:\n",
      "['school', 'sex', 'age', 'address', 'famsize', 'Pstatus', 'Medu', 'Fedu', 'Mjob', 'Fjob', 'reason', 'guardian', 'traveltime', 'studytime', 'failures', 'schoolsup', 'famsup', 'paid', 'activities', 'nursery', 'higher', 'internet', 'romantic', 'famrel', 'freetime', 'goout', 'Dalc', 'Walc', 'health', 'absences']\n",
      "\n",
      "Target column: passed\n",
      "\n",
      "Feature values:\n",
      "  school sex  age address famsize Pstatus  Medu  Fedu     Mjob      Fjob  \\\n",
      "0     GP   F   18       U     GT3       A     4     4  at_home   teacher   \n",
      "1     GP   F   17       U     GT3       T     1     1  at_home     other   \n",
      "2     GP   F   15       U     LE3       T     1     1  at_home     other   \n",
      "3     GP   F   15       U     GT3       T     4     2   health  services   \n",
      "4     GP   F   16       U     GT3       T     3     3    other     other   \n",
      "\n",
      "    ...    higher internet  romantic  famrel  freetime goout Dalc Walc health  \\\n",
      "0   ...       yes       no        no       4         3     4    1    1      3   \n",
      "1   ...       yes      yes        no       5         3     3    1    1      3   \n",
      "2   ...       yes      yes        no       4         3     2    2    3      3   \n",
      "3   ...       yes      yes       yes       3         2     2    1    1      5   \n",
      "4   ...       yes       no        no       4         3     2    1    2      5   \n",
      "\n",
      "  absences  \n",
      "0        6  \n",
      "1        4  \n",
      "2       10  \n",
      "3        2  \n",
      "4        4  \n",
      "\n",
      "[5 rows x 30 columns]\n"
     ]
    }
   ],
   "source": [
    "feature_cols = list(student_data.columns[:-1])\n",
    "\n",
    "# Extract target column 'passed'\n",
    "target_col = student_data.columns[-1] \n",
    "\n",
    "# Show the list of columns\n",
    "print \"Feature columns:\\n{}\".format(feature_cols)\n",
    "print \"\\nTarget column: {}\".format(target_col)\n",
    "\n",
    "# Separate the data into feature data and target data (X_all and y_all, respectively)\n",
    "X_all = student_data[feature_cols]\n",
    "y_all = student_data[target_col]\n",
    "\n",
    "# Show the feature information by printing the first five rows\n",
    "print \"\\nFeature values:\"\n",
    "print X_all.head()"
   ]
  },
  {
   "cell_type": "code",
   "execution_count": 4,
   "metadata": {},
   "outputs": [
    {
     "name": "stdout",
     "output_type": "stream",
     "text": [
      "Processed feature columns (48 total features):\n",
      "['school_GP', 'school_MS', 'sex_F', 'sex_M', 'age', 'address_R', 'address_U', 'famsize_GT3', 'famsize_LE3', 'Pstatus_A', 'Pstatus_T', 'Medu', 'Fedu', 'Mjob_at_home', 'Mjob_health', 'Mjob_other', 'Mjob_services', 'Mjob_teacher', 'Fjob_at_home', 'Fjob_health', 'Fjob_other', 'Fjob_services', 'Fjob_teacher', 'reason_course', 'reason_home', 'reason_other', 'reason_reputation', 'guardian_father', 'guardian_mother', 'guardian_other', 'traveltime', 'studytime', 'failures', 'schoolsup', 'famsup', 'paid', 'activities', 'nursery', 'higher', 'internet', 'romantic', 'famrel', 'freetime', 'goout', 'Dalc', 'Walc', 'health', 'absences']\n"
     ]
    }
   ],
   "source": [
    "def preprocess_features(X):\n",
    "    ''' Preprocesses the student data and converts non-numeric binary variables into\n",
    "        binary (0/1) variables. Converts categorical variables into dummy variables. '''\n",
    "    \n",
    "    # Initialize new output DataFrame\n",
    "    output = pd.DataFrame(index = X.index)\n",
    "\n",
    "    # Investigate each feature column for the data\n",
    "    for col, col_data in X.iteritems():\n",
    "        \n",
    "        # If data type is non-numeric, replace all yes/no values with 1/0\n",
    "        if col_data.dtype == object:\n",
    "            col_data = col_data.replace(['yes', 'no'], [1, 0])\n",
    "\n",
    "        # If data type is categorical, convert to dummy variables\n",
    "        if col_data.dtype == object:\n",
    "            # Example: 'school' => 'school_GP' and 'school_MS'\n",
    "            col_data = pd.get_dummies(col_data, prefix = col)  \n",
    "        \n",
    "        # Collect the revised columns\n",
    "        output = output.join(col_data)\n",
    "    \n",
    "    return output\n",
    "\n",
    "X_all = preprocess_features(X_all)\n",
    "print \"Processed feature columns ({} total features):\\n{}\".format(len(X_all.columns), list(X_all.columns))"
   ]
  },
  {
   "cell_type": "code",
   "execution_count": 6,
   "metadata": {},
   "outputs": [
    {
     "name": "stdout",
     "output_type": "stream",
     "text": [
      "Training set: 300 samples\n",
      "Test set: 95 samples\n"
     ]
    }
   ],
   "source": [
    "from sklearn.cross_validation import StratifiedShuffleSplit\n",
    "from sklearn.model_selection import train_test_split\n",
    "\n",
    "# First, decide how many training vs test samples you want\n",
    "num_all = student_data.shape[0]  # same as len(student_data)\n",
    "num_train = 300  # about 75% of the data\n",
    "num_test = num_all - num_train\n",
    "\n",
    "# TODO: Then, select features (X) and corresponding labels (y) for the training and test sets\n",
    "# Note: Shuffle the data or randomly select samples to avoid any bias due to ordering in the dataset\n",
    "sss = StratifiedShuffleSplit(y_all,test_size=num_test, random_state=0)\n",
    "for train_index, test_index in sss:\n",
    "    X_train, X_test = X_all.iloc[train_index], X_all.iloc[test_index]\n",
    "    y_train, y_test = y_all[train_index], y_all[test_index]\n",
    "print \"Training set: {} samples\".format(X_train.shape[0])\n",
    "print \"Test set: {} samples\".format(X_test.shape[0])\n",
    "# Note: If you need a validation set, extract it from within training data"
   ]
  },
  {
   "cell_type": "markdown",
   "metadata": {},
   "source": [
    "## Training & Evaluating Models"
   ]
  },
  {
   "cell_type": "markdown",
   "metadata": {},
   "source": [
    "I chose the following four supervised learning models available in scikit-learn for the student data:\n",
    "\n",
    "    1) Support Vector Machines(SVM)\n",
    "\n",
    "    2) Gaussian Naive Bayes (GaussianNB)\n",
    "\n",
    "    3) Logistic Regression\n",
    "\n",
    "    4) Random Forest"
   ]
  },
  {
   "cell_type": "markdown",
   "metadata": {},
   "source": [
    "### Support Vector Machines\n",
    "SVM's working can be explained with the help of maximal-margin classifier. Consider you have some input variables or columns in the given data, 30 in this case, then the maximal-margin classifier will form a 30-dimension space. A hyperplane is a line that splits the input variable space. A hyperplane is selected to separate or classify the input points by their class. The distance between the points and the separated line, called margin is chosen such that it separates the two classes by maximum margin, hence called maximal-margin classifier. The margin is calculated as the perpendicular distance from the line to the closest points only. These points are referred to as support vectors. So, here SVM will first learn the data and classify the existing data into two groups, called labels, i.e., YES - in case the student needs intervention or NO - no intervention.\n",
    "\n",
    "Advantages: \n",
    "\n",
    "    1) By introducing the kernel, SVMs gain flexibility in the choice of the form of the threshold separating input points, \n",
    "    2) The input points need not be linear and even need not have the same functional form for all data, since its function is non-parametric and operates locally.\n",
    "    3) The SVM is an effective tool in high-dimensional spaces, which is particularly applicable to document classification and sentiment analysis where the dimensionality can be extremely large (≥10^6).\n",
    "\n",
    "Disadvantages:\n",
    "\n",
    "    1) SVMs don't work well with large datasets as the time complexity of training them is of the order of O(N^3).\n",
    "    2) In situations where the number of features for each object exceeds the number of training data samples, SVMs can perform poorly. This can be seen intuitively, as if the high-dimensional feature space is much larger than the samples, then there are less effective support vectors on which to support the optimal linear hyperplanes.\n",
    "    3) The results are not good in case of overlapping classes or data containing lots of noise."
   ]
  },
  {
   "cell_type": "code",
   "execution_count": 7,
   "metadata": {},
   "outputs": [
    {
     "name": "stdout",
     "output_type": "stream",
     "text": [
      "Training model SVC...\n",
      "Model training completed in 0.0101 seconds\n",
      "SVC(C=1.0, cache_size=200, class_weight=None, coef0=0.0,\n",
      "  decision_function_shape='ovr', degree=3, gamma='auto', kernel='rbf',\n",
      "  max_iter=-1, probability=False, random_state=None, shrinking=True,\n",
      "  tol=0.001, verbose=False)\n"
     ]
    }
   ],
   "source": [
    "import time\n",
    "\n",
    "def train_classifier(clf, X_train, y_train):\n",
    "    ''' Fits a classifier to the training data. '''\n",
    "    \n",
    "    # Start the clock, train the classifier, then stop the clock\n",
    "    print \"Training model {}...\".format(clf.__class__.__name__)\n",
    "    start = time.time()\n",
    "    clf.fit(X_train, y_train)\n",
    "    end = time.time()\n",
    "    \n",
    "    # Print the results\n",
    "    print \"Model training completed in {:.4f} seconds\".format(end - start)\n",
    "    \n",
    "from sklearn import svm\n",
    "clf = svm.SVC()\n",
    "\n",
    "#call the classifier method to train the data using SVM\n",
    "train_classifier(clf,X_train,y_train)\n",
    "print clf"
   ]
  },
  {
   "cell_type": "code",
   "execution_count": 8,
   "metadata": {},
   "outputs": [
    {
     "name": "stdout",
     "output_type": "stream",
     "text": [
      "Predicting labels using SVC...\n",
      "Predictions made in 0.0068 seconds.\n",
      "F1 score for training dataset: 0.867678958785\n"
     ]
    }
   ],
   "source": [
    "from sklearn.metrics import f1_score\n",
    "def predict_labels(clf, features, target):\n",
    "    ''' Makes predictions using a fit classifier based on F1 score. '''\n",
    "    \n",
    "    # Start the clock, make predictions, then stop the clock\n",
    "    print \"Predicting labels using {}...\".format(clf.__class__.__name__)\n",
    "    start = time.time()\n",
    "    y_pred = clf.predict(features)\n",
    "    end = time.time()\n",
    "    \n",
    "    # Print and return results\n",
    "    print \"Predictions made in {:.4f} seconds.\".format(end - start)\n",
    "    return f1_score(target.values, y_pred, pos_label='yes')\n",
    "\n",
    "trained_f1_score = predict_labels(clf,X_train,y_train)\n",
    "print \"F1 score for training dataset: {}\".format(trained_f1_score)"
   ]
  },
  {
   "cell_type": "code",
   "execution_count": 9,
   "metadata": {},
   "outputs": [
    {
     "name": "stdout",
     "output_type": "stream",
     "text": [
      "Predicting labels using SVC...\n",
      "Predictions made in 0.0032 seconds.\n",
      "F1 score for test dataset: 0.808219178082\n"
     ]
    }
   ],
   "source": [
    "#finding f1 score for test data\n",
    "print \"F1 score for test dataset: {}\".format(predict_labels(clf,X_test,y_test))"
   ]
  },
  {
   "cell_type": "code",
   "execution_count": 10,
   "metadata": {},
   "outputs": [
    {
     "name": "stdout",
     "output_type": "stream",
     "text": [
      "Training a SVC using a training set of size 100. . .\n",
      "Training model SVC...\n",
      "Model training completed in 0.0023 seconds\n",
      "Predicting labels using SVC...\n",
      "Predictions made in 0.0011 seconds.\n",
      "F1 score for training set: 0.8383.\n",
      "Predicting labels using SVC...\n",
      "Predictions made in 0.0014 seconds.\n",
      "F1 score for test set: 0.8050.\n",
      "\n",
      "\n",
      "\n",
      "Training a SVC using a training set of size 200. . .\n",
      "Training model SVC...\n",
      "Model training completed in 0.0045 seconds\n",
      "Predicting labels using SVC...\n",
      "Predictions made in 0.0033 seconds.\n",
      "F1 score for training set: 0.8371.\n",
      "Predicting labels using SVC...\n",
      "Predictions made in 0.0020 seconds.\n",
      "F1 score for test set: 0.8344.\n",
      "\n",
      "\n",
      "\n",
      "Training a SVC using a training set of size 300. . .\n",
      "Training model SVC...\n",
      "Model training completed in 0.0080 seconds\n",
      "Predicting labels using SVC...\n",
      "Predictions made in 0.0054 seconds.\n",
      "F1 score for training set: 0.8677.\n",
      "Predicting labels using SVC...\n",
      "Predictions made in 0.0025 seconds.\n",
      "F1 score for test set: 0.8082.\n",
      "\n",
      "\n",
      "\n"
     ]
    }
   ],
   "source": [
    "from sklearn.decomposition import PCA\n",
    "import pylab as pl\n",
    "\n",
    "def train_predict(clf, X_train, y_train, X_test, y_test):\n",
    "    ''' Train and predict using a classifer based on F1 score. '''\n",
    "    \n",
    "    # Indicate the classifier and the training set size\n",
    "    print \"Training a {} using a training set of size {}. . .\".format(clf.__class__.__name__, len(X_train))\n",
    "    \n",
    "    # Train the classifier\n",
    "    train_classifier(clf, X_train, y_train)\n",
    "    \n",
    "    # Print the results of prediction for both training and testing\n",
    "    print \"F1 score for training set: {:.4f}.\".format(predict_labels(clf, X_train, y_train))\n",
    "    print \"F1 score for test set: {:.4f}.\".format(predict_labels(clf, X_test, y_test))\n",
    "    print \"\\n\\n\"\n",
    "    \n",
    "train_predict(clf,X_train[:100],y_train[:100],X_test, y_test)\n",
    "train_predict(clf,X_train[:200],y_train[:200],X_test, y_test)\n",
    "train_predict(clf,X_train[:300],y_train[:300],X_test, y_test)"
   ]
  },
  {
   "cell_type": "markdown",
   "metadata": {},
   "source": [
    "### Gaussian Naive Bayes (Gaussian NB)\n",
    "Based on Bayes theorem (a theorem which provides a way to calculate the probability of a hypothesis given our prior knowledge) and Naive Bayes Classifier(a classification algorithm for binary or multi-class classification problems using class probabilities and conditional probabilities), the Gaussian NB algorithm calculates the mean and standard deviation for input values for each class to summarize the distribution, in addition to the probabilities of each class.\n",
    "\n",
    "Advantages:\n",
    "\n",
    "    1) Fairly simple method that involves some counts that involves small amount of training data. If the NB conditional independence assumption actually holds, a Naive Bayes classifier will converge quicker than discriminative models like logistic regression, so you need less training data.\n",
    "    \n",
    "    2) Naive Bayes learners and classifiers can be extremely fast compared to more sophisticated methods.The decoupling of the class conditional feature distributions means that each distribution can be independently estimated as a one dimensional distribution. This in turn helps to alleviate problems stemming from the curse of dimensionality.\n",
    "    \n",
    "Disadvantages:\n",
    "\n",
    "    1) Despite the above advantages, the estimations provided by it are bad.\n",
    "    \n",
    "    2) If the number of dependent attributes or parameters are large, then performance is poor."
   ]
  },
  {
   "cell_type": "markdown",
   "metadata": {},
   "source": [
    "### Logistic Regression\n",
    "Logistic regression models the probability of the default class. For example, if we are modeling people’s sex as male or female from their height, then the first class could be male and the logistic regression model could be written as the probability of male given a person’s height, or more formally: P(sex=male|height). The probability prediction must be transformed into a binary values (0 or 1) in order to actually make a probability prediction. Logistic regression is a linear method, but the predictions are transformed using the logistic function. The binary logistic model is used to estimate the probability of a binary response based on one or more predictor (or independent) variables (features).\n",
    "\n",
    "Advantages:\n",
    "\n",
    "    1) Unlike decision trees or SVMs, model updation can be done easily. If you want a probabilistic framework (e.g., to easily adjust classification thresholds, to say when you’re unsure, or to get confidence intervals) or if you expect to receive more training data in the future that you want to be able to quickly incorporate into your model, then this method is beneficial.\n",
    "    \n",
    "    2) Logistic regression will work better if there's a single decision boundary, not necessarily parallel to the axis.\n",
    "    \n",
    "Disadavantages:\n",
    "\n",
    "    1) Logistic regression attempts to predict outcomes based on a set of independent variables, but if researchers include the wrong independent variables, the model will have little to no predictive value. \n",
    "    \n",
    "    2) It requires that each data point be independent of all other data points. If observations are related to one another, then the model will tend to overweight the significance of those observations. "
   ]
  },
  {
   "cell_type": "markdown",
   "metadata": {},
   "source": [
    "### Random Forest\n",
    "Random forest builds multiple decision trees and merges them together to get a more accurate and stable prediction. With a few exceptions a random-forest classifier has all the hyperparameters of a decision-tree classifier and also all the hyperparameters of a bagging classifier, to control the ensemble itself. Instead of building a bagging-classifier and passing it into a decision-tree-classifier, you can just use the random-forest classifier class, which is more convenient and optimized for decision trees. \n",
    "\n",
    "Advantages:\n",
    "\n",
    "    1) One big advantage of random forest is, that it can be used for both classification and regression problems, which form the majority of current machine learning systems.\n",
    "    \n",
    "    2) It is very easy to measure the relative importance of each feature on the prediction.\n",
    "    \n",
    "    3) It handles high dimensional spaces as well as large number of training examples really well.\n",
    "    \n",
    "    4) Random forest runtimes are quite fast, and they are able to deal with unbalanced and missing data\n",
    "    \n",
    "Disadvantages:\n",
    "\n",
    "    1) Random forests tends to overestimate the low values and underestimate the high values. This is because the response from random forests in the case of regression is the average (mean) of all of the trees.\n",
    "    \n",
    "    2) When used for regression they cannot predict beyond the range in the training data, and that they may over-fit data sets that are particularly noisy.\n"
   ]
  },
  {
   "cell_type": "code",
   "execution_count": 12,
   "metadata": {},
   "outputs": [
    {
     "name": "stdout",
     "output_type": "stream",
     "text": [
      "Training a GaussianNB using a training set of size 100. . .\n",
      "Training model GaussianNB...\n",
      "Model training completed in 0.0025 seconds\n",
      "Predicting labels using GaussianNB...\n",
      "Predictions made in 0.0017 seconds.\n",
      "F1 score for training set: 0.8163.\n",
      "Predicting labels using GaussianNB...\n",
      "Predictions made in 0.0009 seconds.\n",
      "F1 score for test set: 0.8160.\n",
      "\n",
      "\n",
      "\n",
      "Training a GaussianNB using a training set of size 200. . .\n",
      "Training model GaussianNB...\n",
      "Model training completed in 0.0027 seconds\n",
      "Predicting labels using GaussianNB...\n",
      "Predictions made in 0.0015 seconds.\n",
      "F1 score for training set: 0.7839.\n",
      "Predicting labels using GaussianNB...\n",
      "Predictions made in 0.0013 seconds.\n",
      "F1 score for test set: 0.7520.\n",
      "\n",
      "\n",
      "\n",
      "Training a GaussianNB using a training set of size 300. . .\n",
      "Training model GaussianNB...\n",
      "Model training completed in 0.0032 seconds\n",
      "Predicting labels using GaussianNB...\n",
      "Predictions made in 0.0026 seconds.\n",
      "F1 score for training set: 0.7781.\n",
      "Predicting labels using GaussianNB...\n",
      "Predictions made in 0.0021 seconds.\n",
      "F1 score for test set: 0.7541.\n",
      "\n",
      "\n",
      "\n",
      "Training a LogisticRegression using a training set of size 100. . .\n",
      "Training model LogisticRegression...\n",
      "Model training completed in 0.0072 seconds\n",
      "Predicting labels using LogisticRegression...\n",
      "Predictions made in 0.0010 seconds.\n",
      "F1 score for training set: 0.9231.\n",
      "Predicting labels using LogisticRegression...\n",
      "Predictions made in 0.0010 seconds.\n",
      "F1 score for test set: 0.7107.\n",
      "\n",
      "\n",
      "\n",
      "Training a LogisticRegression using a training set of size 200. . .\n",
      "Training model LogisticRegression...\n",
      "Model training completed in 0.0028 seconds\n",
      "Predicting labels using LogisticRegression...\n",
      "Predictions made in 0.0005 seconds.\n",
      "F1 score for training set: 0.8500.\n",
      "Predicting labels using LogisticRegression...\n",
      "Predictions made in 0.0004 seconds.\n",
      "F1 score for test set: 0.7820.\n",
      "\n",
      "\n",
      "\n",
      "Training a LogisticRegression using a training set of size 300. . .\n",
      "Training model LogisticRegression...\n",
      "Model training completed in 0.0043 seconds\n",
      "Predicting labels using LogisticRegression...\n",
      "Predictions made in 0.0008 seconds.\n",
      "F1 score for training set: 0.8233.\n",
      "Predicting labels using LogisticRegression...\n",
      "Predictions made in 0.0008 seconds.\n",
      "F1 score for test set: 0.8029.\n",
      "\n",
      "\n",
      "\n",
      "Training a RandomForestClassifier using a training set of size 100. . .\n",
      "Training model RandomForestClassifier...\n",
      "Model training completed in 0.0415 seconds\n",
      "Predicting labels using RandomForestClassifier...\n",
      "Predictions made in 0.0020 seconds.\n",
      "F1 score for training set: 1.0000.\n",
      "Predicting labels using RandomForestClassifier...\n",
      "Predictions made in 0.0021 seconds.\n",
      "F1 score for test set: 0.7591.\n",
      "\n",
      "\n",
      "\n",
      "Training a RandomForestClassifier using a training set of size 200. . .\n",
      "Training model RandomForestClassifier...\n",
      "Model training completed in 0.0591 seconds\n",
      "Predicting labels using RandomForestClassifier...\n",
      "Predictions made in 0.0027 seconds.\n",
      "F1 score for training set: 0.9962.\n",
      "Predicting labels using RandomForestClassifier...\n",
      "Predictions made in 0.0017 seconds.\n",
      "F1 score for test set: 0.7619.\n",
      "\n",
      "\n",
      "\n",
      "Training a RandomForestClassifier using a training set of size 300. . .\n",
      "Training model RandomForestClassifier...\n",
      "Model training completed in 0.0612 seconds\n",
      "Predicting labels using RandomForestClassifier...\n",
      "Predictions made in 0.0032 seconds.\n",
      "F1 score for training set: 0.9800.\n",
      "Predicting labels using RandomForestClassifier...\n",
      "Predictions made in 0.0035 seconds.\n",
      "F1 score for test set: 0.7273.\n",
      "\n",
      "\n",
      "\n"
     ]
    }
   ],
   "source": [
    "from sklearn.naive_bayes import GaussianNB\n",
    "from sklearn import linear_model\n",
    "from sklearn.ensemble import RandomForestClassifier\n",
    "\n",
    "clfA = GaussianNB()\n",
    "train_predict(clfA,X_train[:100],y_train[:100],X_test, y_test)\n",
    "train_predict(clfA,X_train[:200],y_train[:200],X_test, y_test)\n",
    "train_predict(clfA,X_train[:300],y_train[:300],X_test, y_test)\n",
    "\n",
    "clfB = linear_model.LogisticRegression(C=1e5)\n",
    "train_predict(clfB,X_train[:100],y_train[:100],X_test, y_test)\n",
    "train_predict(clfB,X_train[:200],y_train[:200],X_test, y_test)\n",
    "train_predict(clfB,X_train[:300],y_train[:300],X_test, y_test)\n",
    "\n",
    "clfC = RandomForestClassifier(n_estimators=10)\n",
    "train_predict(clfC,X_train[:100],y_train[:100],X_test, y_test)\n",
    "train_predict(clfC,X_train[:200],y_train[:200],X_test, y_test)\n",
    "train_predict(clfC,X_train[:300],y_train[:300],X_test, y_test)"
   ]
  },
  {
   "cell_type": "code",
   "execution_count": 17,
   "metadata": {},
   "outputs": [
    {
     "name": "stdout",
     "output_type": "stream",
     "text": [
      "SVC(C=1, cache_size=200, class_weight=None, coef0=0.0,\n",
      "  decision_function_shape='ovr', degree=3, gamma=0.1, kernel='rbf',\n",
      "  max_iter=-1, probability=False, random_state=None, shrinking=True,\n",
      "  tol=0.01, verbose=False)\n",
      "\n",
      "\n",
      "Training a SVC using a training set of size 300. . .\n",
      "Training model SVC...\n",
      "Model training completed in 0.0091 seconds\n",
      "Predicting labels using SVC...\n",
      "Predictions made in 0.0067 seconds.\n",
      "F1 score for training set: 0.9781.\n",
      "Predicting labels using SVC...\n",
      "Predictions made in 0.0029 seconds.\n",
      "F1 score for test set: 0.8153.\n",
      "\n",
      "\n",
      "\n"
     ]
    }
   ],
   "source": [
    "from sklearn import grid_search\n",
    "from sklearn.metrics import f1_score\n",
    "from sklearn.metrics import make_scorer\n",
    "from sklearn.model_selection import train_test_split\n",
    "\n",
    "clf = svm.SVC()\n",
    "param_grid = [\n",
    "  {'C': [1,10, 50, 100, 200, 250, 300, 350, 400, 500, 600],\n",
    "    'kernel':['rbf','poly','sigmoid'],\n",
    "    'gamma': [0.001,0.01,0.1,1,0.1,0.01,0.001,0.0001,0.00001],\n",
    "     'tol':[0.01,0.001,0.0001,0.00001,0.0000001]\n",
    "  }\n",
    " ]\n",
    "\n",
    "f1_scorer = make_scorer(f1_score, pos_label=\"yes\")\n",
    "regressor = grid_search.GridSearchCV(clf, param_grid, cv=5,scoring=f1_scorer)\n",
    "regressor.fit(X_train, y_train)\n",
    "reg = regressor.best_estimator_\n",
    "print reg\n",
    "print \"\\n\"\n",
    "train_predict(reg, X_train, y_train,X_test,y_test)"
   ]
  }
 ],
 "metadata": {
  "kernelspec": {
   "display_name": "Python 2",
   "language": "python",
   "name": "python2"
  },
  "language_info": {
   "codemirror_mode": {
    "name": "ipython",
    "version": 2
   },
   "file_extension": ".py",
   "mimetype": "text/x-python",
   "name": "python",
   "nbconvert_exporter": "python",
   "pygments_lexer": "ipython2",
   "version": "2.7.15"
  }
 },
 "nbformat": 4,
 "nbformat_minor": 2
}
